{
 "cells": [
  {
   "cell_type": "markdown",
   "metadata": {},
   "source": [
    "# Dendrite Toolkit\n",
    "\n",
    "\n",
    "This toolkit is used to interact with a browser using Dendrite. [See Dendrite's docs here](https://docs.dendrite.systems)\n",
    "\n",
    "With this toolkit, your AI applications and AI agent are able to use the internet, and all it's web services, just like a human by using websites!\n",
    "\n",
    "The tools bundled within the `Dendrite` toolkit include:\n",
    "\n",
    "- `Ask` (ask_page_with_browser) - Looks at the current page and answers a question about it\n",
    "- `Extract` (extract_from_page_with_browser) - Extracts data from the current page based on a prompt and optional type specification\n",
    "- `Fill` (fill_element_with_browser) - Fills an element on the page based on the provided prompt and value\n",
    "- `FillFields` (fill_multiple_fields_with_browser) - Fills multiple fields on the page based on a dictionary of prompts and values\n",
    "- `Goto` (goto_with_browser) - Navigate with the Dendrite browser to a given URL\n",
    "- `Click` (click_element_with_browser) - Clicks an element on the page based on the provided prompt\n",
    "- `Press` (press_key_with_browser) - Presses a keyboard key on the active page, optionally with modifier keys\n",
    "- `Upload` (upload_files_with_browser) - Uploads one or more files to the page using a file chooser\n",
    "- `Download` (download_file_with_browser) - Downloads a file from the page to the specified path\n",
    "\n",
    "## Setup and Installation\n",
    "\n",
    "You'll need to set up a free Dendrite account to get started: [Get your API key here](https://dendrite.systems/app)\n",
    "\n",
    "After this, install Dendrite:"
   ]
  },
  {
   "cell_type": "code",
   "execution_count": 1,
   "metadata": {
    "tags": []
   },
   "outputs": [
    {
     "name": "stdout",
     "output_type": "stream",
     "text": [
      "\n",
      "\u001b[1m[\u001b[0m\u001b[34;49mnotice\u001b[0m\u001b[1;39;49m]\u001b[0m\u001b[39;49m A new release of pip is available: \u001b[0m\u001b[31;49m24.0\u001b[0m\u001b[39;49m -> \u001b[0m\u001b[32;49m24.2\u001b[0m\n",
      "\u001b[1m[\u001b[0m\u001b[34;49mnotice\u001b[0m\u001b[1;39;49m]\u001b[0m\u001b[39;49m To update, run: \u001b[0m\u001b[32;49mpip install --upgrade pip\u001b[0m\n",
      "Note: you may need to restart the kernel to use updated packages.\n",
      "\n",
      "\u001b[1m[\u001b[0m\u001b[34;49mnotice\u001b[0m\u001b[1;39;49m]\u001b[0m\u001b[39;49m A new release of pip is available: \u001b[0m\u001b[31;49m24.0\u001b[0m\u001b[39;49m -> \u001b[0m\u001b[32;49m24.2\u001b[0m\n",
      "\u001b[1m[\u001b[0m\u001b[34;49mnotice\u001b[0m\u001b[1;39;49m]\u001b[0m\u001b[39;49m To update, run: \u001b[0m\u001b[32;49mpip install --upgrade pip\u001b[0m\n",
      "Note: you may need to restart the kernel to use updated packages.\n"
     ]
    }
   ],
   "source": [
    "%pip install dendrite-sdk langchain-community\n",
    "\n",
    "# If this is your first time installing Dendrite, you'll need to download the browser binaries too:\n",
    "% dendrite install"
   ]
  },
  {
   "cell_type": "markdown",
   "metadata": {},
   "source": [
    "## Simple Example\n",
    "\n",
    "Let's see how we initialize the Dendrite Client and use to get some information from a website:\n",
    "\n",
    "> Make sure you added your [free Dendrite API key](https://dendrite.systems/app) into .env file as DENDRITE_API_KEY"
   ]
  },
  {
   "cell_type": "code",
   "execution_count": null,
   "metadata": {
    "tags": []
   },
   "outputs": [
    {
     "data": {
      "text/plain": [
       "[ClickTool(async_browser=<Browser type=<BrowserType name=chromium executable_path=/Users/isaachershenson/Library/Caches/ms-playwright/chromium-1124/chrome-mac/Chromium.app/Contents/MacOS/Chromium> version=127.0.6533.17>),\n",
       " NavigateTool(async_browser=<Browser type=<BrowserType name=chromium executable_path=/Users/isaachershenson/Library/Caches/ms-playwright/chromium-1124/chrome-mac/Chromium.app/Contents/MacOS/Chromium> version=127.0.6533.17>),\n",
       " NavigateBackTool(async_browser=<Browser type=<BrowserType name=chromium executable_path=/Users/isaachershenson/Library/Caches/ms-playwright/chromium-1124/chrome-mac/Chromium.app/Contents/MacOS/Chromium> version=127.0.6533.17>),\n",
       " ExtractTextTool(async_browser=<Browser type=<BrowserType name=chromium executable_path=/Users/isaachershenson/Library/Caches/ms-playwright/chromium-1124/chrome-mac/Chromium.app/Contents/MacOS/Chromium> version=127.0.6533.17>),\n",
       " ExtractHyperlinksTool(async_browser=<Browser type=<BrowserType name=chromium executable_path=/Users/isaachershenson/Library/Caches/ms-playwright/chromium-1124/chrome-mac/Chromium.app/Contents/MacOS/Chromium> version=127.0.6533.17>),\n",
       " GetElementsTool(async_browser=<Browser type=<BrowserType name=chromium executable_path=/Users/isaachershenson/Library/Caches/ms-playwright/chromium-1124/chrome-mac/Chromium.app/Contents/MacOS/Chromium> version=127.0.6533.17>),\n",
       " CurrentWebPageTool(async_browser=<Browser type=<BrowserType name=chromium executable_path=/Users/isaachershenson/Library/Caches/ms-playwright/chromium-1124/chrome-mac/Chromium.app/Contents/MacOS/Chromium> version=127.0.6533.17>)]"
      ]
     },
     "execution_count": 4,
     "metadata": {},
     "output_type": "execute_result"
    }
   ],
   "source": [
    "from langchain_community.tools.dendrite import create_async_dendrite_client, Goto, Ask\n",
    "from langchain_community.agent_toolkits import DendriteToolkit\n",
    "\n",
    "# We start by creating the Dendrite Client, which will initialize a chromium browser.\n",
    "# It's in this step we specify the browser options, such as which remote browser hosting provider to use or on what websites to be authenticated on.\n",
    "client = create_async_dendrite_client()\n",
    "\n",
    "# When we create the toolkit, we have to pass in the Dendrite client.\n",
    "toolkit = DendriteToolkit.from_client(client)\n",
    "tools = toolkit.get_tools()\n",
    "print(\"All tools: \", tools)\n",
    "\n",
    "# Let's try using the raw tools to load a webpage and extract some information from it.\n",
    "goto_tool = Goto().from_client(client)\n",
    "goto_tool.run({\"url\": \"https://github.com/dendrite-systems/dendrite-python-sdk\"})\n",
    "ask_tool = Ask().from_client(client)\n",
    "ask_tool.run({\"prompt\": \"How many stars does this repo have?\"})\n"
   ]
  },
  {
   "cell_type": "markdown",
   "metadata": {},
   "source": [
    "## Use within an Agent\n",
    "\n",
    "Let's give the toolkit to a ReAct AI agent and have it summerize and download a github repo."
   ]
  },
  {
   "cell_type": "code",
   "execution_count": 10,
   "metadata": {
    "tags": []
   },
   "outputs": [
    {
     "name": "stderr",
     "output_type": "stream",
     "text": [
      "/Users/isaachershenson/.pyenv/versions/3.11.9/lib/python3.11/site-packages/langchain_core/_api/deprecation.py:139: LangChainDeprecationWarning: The function `initialize_agent` was deprecated in LangChain 0.1.0 and will be removed in 0.3.0. Use Use new agent constructor methods like create_react_agent, create_json_agent, create_structured_chat_agent, etc. instead.\n",
      "  warn_deprecated(\n"
     ]
    }
   ],
   "source": [
    "from langchain_community.agent_toolkits.dendrite import DendriteToolkit\n",
    "from langchain_community.tools.dendrite.utils import (\n",
    "    create_sync_dendrite_client,\n",
    ")\n",
    "from langchain import hub\n",
    "from langchain.agents import AgentExecutor, create_openai_tools_agent\n",
    "from langchain_openai import ChatOpenAI\n",
    "\n",
    "prompt = hub.pull(\"hwchase17/openai-tools-agent\")\n",
    "\n",
    "# Authenticate on github (See more in the dendrite docs on how do do this)\n",
    "client = create_sync_dendrite_client(auth=\"github.com\")\n",
    "toolkit = DendriteToolkit.from_client(client=client)\n",
    "tools = toolkit.get_tools()\n",
    "\n",
    "llm = ChatOpenAI(model=\"gpt-4o\", temperature=0)\n",
    "agent = create_openai_tools_agent(llm, tools, prompt)\n",
    "agent_executor = AgentExecutor(agent=agent, tools=tools, verbose=True)\n",
    "\n",
    "url = \"https://github.com/dendrite-systems/dendrite-python-sdk\"\n",
    "command = {\n",
    "    \"input\": f\"go to {url}, summarize the repository and how many stars it has, then download the repo as a zip file at /tmp/repo.zip\"\n",
    "}\n",
    "response = agent_executor.invoke(command)\n"
   ]
  }
 ],
 "metadata": {
  "kernelspec": {
   "display_name": "Python 3 (ipykernel)",
   "language": "python",
   "name": "python3"
  },
  "language_info": {
   "codemirror_mode": {
    "name": "ipython",
    "version": 3
   },
   "file_extension": ".py",
   "mimetype": "text/x-python",
   "name": "python",
   "nbconvert_exporter": "python",
   "pygments_lexer": "ipython3",
   "version": "3.10.12"
  }
 },
 "nbformat": 4,
 "nbformat_minor": 4
}
